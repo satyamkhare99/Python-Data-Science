{
    "cells": [
        {
            "cell_type": "markdown",
            "metadata": {
                "collapsed": true
            },
            "source": "# 1. Introduction"
        },
        {
            "cell_type": "markdown",
            "metadata": {},
            "source": "1.1 Background"
        },
        {
            "cell_type": "markdown",
            "metadata": {},
            "source": "The average American moves about eleven times in their lifetime. This brings us to the\nquestion: Do people move until they find a place to settle down where they truly feel happy,\nor do our wants and needs change over time, prompting us to eventually leave a town we\nonce called home for a new area that will bring us satisfaction? Or, do we too often move to\na new area without knowing exactly what we\u2019re getting into, forcing us to turn tail and run at\nthe first sign of discomfort?\nTo minimize the chances of this happening, we should always do proper research when\nplanning our next move in life. Consider the following factors when picking a new place to\nlive so you don\u2019t end up wasting your valuable time and money making a move you\u2019ll end\nup regretting. Safety is a top concern when moving to a new area. If you don\u2019t feel safe in\nyour own home, you\u2019re not going to be able to enjoy living there.\n"
        },
        {
            "cell_type": "markdown",
            "metadata": {},
            "source": "1.2 Problem\n"
        },
        {
            "cell_type": "markdown",
            "metadata": {},
            "source": "The crime statistics dataset of London found on Kaggle has crimes in each Boroughs of\nLondon from 2008 to 2016. The year 2016 being the latest we will be considering the data\nof that year which is actually old information as of now. The crime rates in each borough\nmay have changed over time.\nThis project aims to select the safest borough in London based on the total crimes, explore\nthe neighborhoods of that borough to find the 10 most common venues in each\nneighborhood and finally cluster the neighborhoods using k-mean clustering.\n"
        },
        {
            "cell_type": "markdown",
            "metadata": {},
            "source": "1.3 Interest\nExpats who are considering to relocate to London will be interested to identify the safest\nborough in London and explore its neighborhoods and common venues around each\nneighborhood."
        }
    ],
    "metadata": {
        "kernelspec": {
            "display_name": "Python 3.6",
            "language": "python",
            "name": "python3"
        },
        "language_info": {
            "codemirror_mode": {
                "name": "ipython",
                "version": 3
            },
            "file_extension": ".py",
            "mimetype": "text/x-python",
            "name": "python",
            "nbconvert_exporter": "python",
            "pygments_lexer": "ipython3",
            "version": "3.6.9"
        }
    },
    "nbformat": 4,
    "nbformat_minor": 1
}